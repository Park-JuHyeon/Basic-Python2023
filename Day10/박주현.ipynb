{
 "cells": [
  {
   "attachments": {},
   "cell_type": "markdown",
   "metadata": {},
   "source": [
    "## 1번"
   ]
  },
  {
   "cell_type": "code",
   "execution_count": 5,
   "metadata": {},
   "outputs": [
    {
     "name": "stdout",
     "output_type": "stream",
     "text": [
      "반지름은 5.0이고 원의 넓이는 78.5398 입니다.\n"
     ]
    }
   ],
   "source": [
    "\n",
    "def circle(r):\n",
    "    pi = 3.141592\n",
    "    \n",
    "    area = r**2*pi\n",
    "    print(f'반지름은 {r}이고 원의 넓이는 {area} 입니다.')\n",
    "\n",
    "r = float(input('반지름을 입력하세요 : '))\n",
    "\n",
    "circle(r)"
   ]
  },
  {
   "attachments": {},
   "cell_type": "markdown",
   "metadata": {},
   "source": [
    "## 2번"
   ]
  },
  {
   "cell_type": "code",
   "execution_count": 24,
   "metadata": {},
   "outputs": [
    {
     "name": "stdout",
     "output_type": "stream",
     "text": [
      "해왕성입니다.\n"
     ]
    }
   ],
   "source": [
    "arr = ['Mercury', 'Venus', 'Earth', 'Mars', 'Jupiter', 'Saturn', 'Uranus', 'Neptune']\n",
    "name = str(input('행성을 입력하세요 : {arr}'))\n",
    "if name == 'Mercury':\n",
    "    print('수성입니다.')\n",
    "elif name == 'Venus':\n",
    "    print('금성입니다.')\n",
    "elif name == 'Earth':\n",
    "    print('지구입니다.')\n",
    "elif name == 'Mars':\n",
    "    print('화성입니다.')\n",
    "elif name == 'Jupiter':\n",
    "    print('목성입니다.')\n",
    "elif name == 'Saturn':\n",
    "    print('토성입니다.')\n",
    "elif name == 'Uranus':\n",
    "    print('천왕성입니다.')\n",
    "elif name == 'Neptune':\n",
    "    print('해왕성입니다.')\n",
    "else:\n",
    "    print('행성이름을 잘못 입력했습니다!!')\n"
   ]
  },
  {
   "attachments": {},
   "cell_type": "markdown",
   "metadata": {},
   "source": [
    "## 3번"
   ]
  },
  {
   "cell_type": "code",
   "execution_count": 125,
   "metadata": {},
   "outputs": [
    {
     "name": "stdout",
     "output_type": "stream",
     "text": [
      "I'm going to leave the door open = 7\n",
      "/\n",
      "I'm GOING to LEAVE the DOOR open "
     ]
    }
   ],
   "source": [
    "inputs = input('영어를 입력하세요 > ').split()\n",
    "cnt = len(inputs)\n",
    "\n",
    "for i in range(0,cnt):\n",
    "    print(inputs[i], end= ' ')\n",
    "print(f'= {cnt}')\n",
    "print('/')\n",
    "\n",
    "for i in range(0, cnt):\n",
    "    if i % 2 == 1:\n",
    "        print(inputs[i].upper(), end=' ')\n",
    "\n",
    "    else:\n",
    "        print(inputs[i], end=' ')\n",
    "    "
   ]
  },
  {
   "attachments": {},
   "cell_type": "markdown",
   "metadata": {},
   "source": [
    "## 4번"
   ]
  },
  {
   "cell_type": "code",
   "execution_count": 79,
   "metadata": {},
   "outputs": [
    {
     "name": "stdout",
     "output_type": "stream",
     "text": [
      "뒤집으면 321 입니다.\n"
     ]
    }
   ],
   "source": [
    "inputs = input('숫자를 입력하세요 > ')\n",
    "reverse_num = ''\n",
    "\n",
    "for c in inputs:\n",
    "    reverse_num = c + reverse_num\n",
    "\n",
    "print(f'뒤집으면 {reverse_num} 입니다.')"
   ]
  },
  {
   "attachments": {},
   "cell_type": "markdown",
   "metadata": {},
   "source": [
    "## 5번"
   ]
  },
  {
   "cell_type": "code",
   "execution_count": 91,
   "metadata": {},
   "outputs": [
    {
     "name": "stdout",
     "output_type": "stream",
     "text": [
      "5 X 1 = 5 입니다. \n",
      "5 X 2 = 10 입니다. \n",
      "5 X 3 = 15 입니다. \n",
      "5 X 4 = 20 입니다. \n",
      "5 X 5 = 25 입니다. \n",
      "5 X 6 = 30 입니다. \n",
      "5 X 7 = 35 입니다. \n",
      "5 X 8 = 40 입니다. \n",
      "5 X 9 = 45 입니다. \n"
     ]
    }
   ],
   "source": [
    "\n",
    "x = int(input('단 번호 입력'))\n",
    "\n",
    "for y in range(1,10):\n",
    "    print(f'{x} X {y} = {x*y} 입니다. ')\n",
    "\n",
    "\n",
    "    "
   ]
  }
 ],
 "metadata": {
  "kernelspec": {
   "display_name": "venv",
   "language": "python",
   "name": "python3"
  },
  "language_info": {
   "codemirror_mode": {
    "name": "ipython",
    "version": 3
   },
   "file_extension": ".py",
   "mimetype": "text/x-python",
   "name": "python",
   "nbconvert_exporter": "python",
   "pygments_lexer": "ipython3",
   "version": "3.11.1"
  },
  "orig_nbformat": 4,
  "vscode": {
   "interpreter": {
    "hash": "8b34f0782264066d16b68c9a3c2cb94a450fdde361e843fc4d1e2aad16ebae41"
   }
  }
 },
 "nbformat": 4,
 "nbformat_minor": 2
}
